{
 "metadata": {
  "name": ""
 },
 "nbformat": 3,
 "nbformat_minor": 0,
 "worksheets": [
  {
   "cells": [
    {
     "cell_type": "code",
     "collapsed": false,
     "input": [
      "import pandas as pd\n",
      "# from pyspark.sql import SQLContext\n",
      "# from MapFunction import *\n",
      "import numpy as np\n",
      "import os\n",
      "\n",
      "folder_path ='dataset/original/'\n",
      "schema_path = 'schema_tu.csv'\n",
      "# schema_df = [\"mID\",\"moment\",\"cpu_rate\",\"mem_usage\",\"disk_io_time\",\"disk_space\"]\n",
      "data_path = 'dataset/part-00232-of-00500.csv.gz'"
     ],
     "language": "python",
     "metadata": {},
     "outputs": [],
     "prompt_number": 34
    },
    {
     "cell_type": "code",
     "collapsed": false,
     "input": [
      "schema = pd.read_csv(schema_path)\n",
      "total_size = []\n",
      "sum_size = []\n",
      "for file_path in os.listdir(folder_path):   \n",
      "    print \"Reading %s\"%file_path\n",
      "    dat = pd.read_csv(\"%s/%s\"%(folder_path,file_path),names=schema.columns,compression='gzip')\n",
      "    grouped = dat.groupby('jID')\n",
      "    group_size = grouped.size()\n",
      "    for jID in group_size.nlargest(10).index:\n",
      "        sample = dat[dat.jID==jID]\n",
      "        task_length = (sample.etime.max()-sample.stime.min())/1E6\n",
      "        total_size.append((jID,task_length,file_path))\n",
      "print \"Get top job ID by run-time\"\n",
      "df = pd.DataFrame(total_size,columns=[\"jID\",\"length\",\"file\"])\n",
      "s = df.groupby('jID').sum()\n",
      "s.nlargest(10,'length').to_csv('top_jobID')"
     ],
     "language": "python",
     "metadata": {},
     "outputs": [
      {
       "html": [
        "<div style=\"max-width:1500px;overflow:auto;\">\n",
        "<table border=\"1\" class=\"dataframe\">\n",
        "  <thead>\n",
        "    <tr style=\"text-align: right;\">\n",
        "      <th></th>\n",
        "      <th>length</th>\n",
        "    </tr>\n",
        "    <tr>\n",
        "      <th>jID</th>\n",
        "      <th></th>\n",
        "    </tr>\n",
        "  </thead>\n",
        "  <tbody>\n",
        "    <tr>\n",
        "      <th>6312699084</th>\n",
        "      <td>15570.0</td>\n",
        "    </tr>\n",
        "    <tr>\n",
        "      <th>6336594489</th>\n",
        "      <td>15570.0</td>\n",
        "    </tr>\n",
        "    <tr>\n",
        "      <th>4028922835</th>\n",
        "      <td>15072.0</td>\n",
        "    </tr>\n",
        "    <tr>\n",
        "      <th>5402488769</th>\n",
        "      <td>15033.0</td>\n",
        "    </tr>\n",
        "    <tr>\n",
        "      <th>2902878580</th>\n",
        "      <td>15008.0</td>\n",
        "    </tr>\n",
        "    <tr>\n",
        "      <th>6114773114</th>\n",
        "      <td>15000.0</td>\n",
        "    </tr>\n",
        "    <tr>\n",
        "      <th>6176858948</th>\n",
        "      <td>15000.0</td>\n",
        "    </tr>\n",
        "    <tr>\n",
        "      <th>6176871439</th>\n",
        "      <td>15000.0</td>\n",
        "    </tr>\n",
        "    <tr>\n",
        "      <th>4665712499</th>\n",
        "      <td>10239.0</td>\n",
        "    </tr>\n",
        "    <tr>\n",
        "      <th>4765556460</th>\n",
        "      <td>5100.0</td>\n",
        "    </tr>\n",
        "  </tbody>\n",
        "</table>\n",
        "</div>"
       ],
       "metadata": {},
       "output_type": "pyout",
       "prompt_number": 72,
       "text": [
        "             length\n",
        "jID                \n",
        "6312699084  15570.0\n",
        "6336594489  15570.0\n",
        "4028922835  15072.0\n",
        "5402488769  15033.0\n",
        "2902878580  15008.0\n",
        "6114773114  15000.0\n",
        "6176858948  15000.0\n",
        "6176871439  15000.0\n",
        "4665712499  10239.0\n",
        "4765556460   5100.0"
       ]
      }
     ],
     "prompt_number": 72
    }
   ],
   "metadata": {}
  }
 ]
}