{
 "metadata": {
  "name": ""
 },
 "nbformat": 3,
 "nbformat_minor": 0,
 "worksheets": [
  {
   "cells": [
    {
     "cell_type": "code",
     "collapsed": false,
     "input": [
      "import pandas as pd\n",
      "# from pyspark.sql import SQLContext\n",
      "# from MapFunction import *\n",
      "import numpy as np\n",
      "import os\n",
      "\n",
      "folder_path ='dataset/original/'\n",
      "schema_path = 'schema_tu.csv'\n",
      "# schema_df = [\"mID\",\"moment\",\"cpu_rate\",\"mem_usage\",\"disk_io_time\",\"disk_space\"]\n",
      "data_path = 'dataset/part-00232-of-00500.csv.gz'"
     ],
     "language": "python",
     "metadata": {},
     "outputs": [],
     "prompt_number": 34
    },
    {
     "cell_type": "code",
     "collapsed": false,
     "input": [
      "schema = pd.read_csv(schema_path)\n",
      "total_size = []\n",
      "sum_size = []\n",
      "for file_path in os.listdir(folder_path):   \n",
      "    print \"Reading %s\"%file_path\n",
      "    dat = pd.read_csv(\"%s/%s\"%(folder_path,file_path),names=schema.columns,compression='gzip')\n",
      "    grouped = dat.groupby('jID')\n",
      "    group_size = grouped.size()\n",
      "    for jID in group_size.nlargest(10).index:\n",
      "        sample = dat[dat.jID==jID]\n",
      "        task_length = (sample.etime.max()-sample.stime.min())/1E6\n",
      "        total_size.append((jID,task_length,file_path))\n",
      "print \"Get top job ID by run-time\"\n",
      "df = pd.DataFrame(total_size,columns=[\"jID\",\"length\",\"file\"])\n",
      "s = df.groupby('jID').sum()\n",
      "s.nlargest(10,'length').to_csv('top_jobID')"
     ],
     "language": "python",
     "metadata": {},
     "outputs": [
      {
       "output_type": "stream",
       "stream": "stdout",
       "text": [
        "Reading part-00233-of-00500.csv.gz\n",
        "Reading part-00232-of-00500.csv.gz"
       ]
      },
      {
       "output_type": "stream",
       "stream": "stdout",
       "text": [
        "\n",
        "Reading part-00234-of-00500.csv.gz"
       ]
      },
      {
       "output_type": "stream",
       "stream": "stdout",
       "text": [
        "\n",
        "Get top job ID by run-time"
       ]
      },
      {
       "output_type": "stream",
       "stream": "stdout",
       "text": [
        "\n"
       ]
      }
     ],
     "prompt_number": 73
    }
   ],
   "metadata": {}
  }
 ]
}